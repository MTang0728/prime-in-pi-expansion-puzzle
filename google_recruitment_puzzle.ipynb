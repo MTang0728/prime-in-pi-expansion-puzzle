{
 "cells": [
  {
   "cell_type": "code",
   "execution_count": 2,
   "source": [
    "from sympy import N, pi\n",
    "import numpy as np\n",
    "\n",
    "def generate_expan(expression, n):\n",
    "    \"\"\"\n",
    "    a function that genererates an arbtrary large expansion of mathematical \n",
    "    expression based on user defined precision.\n",
    "    input:\n",
    "    - expression -> sympy expression\n",
    "    - n -> int\n",
    "    output:\n",
    "    - my_expan -> sympy expression \n",
    "    \"\"\"\n",
    "    # generate expansion based on user-defined precision\n",
    "    my_expan = N(expression, n)\n",
    "    # return expanded excpression\n",
    "    return my_expan\n",
    "\n",
    "def check_prime(num):\n",
    "    \"\"\"\n",
    "    a function that checks if user-entered number is a prime number.\n",
    "    input:\n",
    "    - num -> int\n",
    "    output:\n",
    "    - bool\n",
    "    \"\"\"\n",
    "    # return False if num is less or equal to 1\n",
    "    if num <= 1:\n",
    "        return False\n",
    "    else:\n",
    "        # loop from 2 to the square root of the entered number\n",
    "        # use as a divisor against the entered number\n",
    "        for i in range(2, int(np.sqrt(num))+1):\n",
    "            # check if the remainder is 0\n",
    "            if num % i == 0:\n",
    "                # return False\n",
    "                return False\n",
    "        # else it's True\n",
    "        return True\n",
    "\n",
    "def generate_window(number, length):\n",
    "    \"\"\"\n",
    "    a function that generate sliding windows of user-defined length on a\n",
    "    number.\n",
    "    input:\n",
    "    - number -> str\n",
    "    - length -> int\n",
    "    output:\n",
    "    - windows -> list\n",
    "    \"\"\"\n",
    "    # define an empty list for storing rolling window\n",
    "    windows = []\n",
    "    # get the total length of the number\n",
    "    total_length = len(number)\n",
    "    # loop through each element in the number\n",
    "    for i in range(total_length - length + 1):\n",
    "        # extract the number\n",
    "        window = number[i:i+length]\n",
    "        # append to the list\n",
    "        windows.append(window)\n",
    "\n",
    "    return windows"
   ],
   "outputs": [],
   "metadata": {}
  },
  {
   "cell_type": "code",
   "execution_count": 3,
   "source": [
    "# generate an expansion of 17π witha precision of 1000\n",
    "decimal_expan = str(generate_expan(17*pi, 1000))\n",
    "# split by . and keep the decimal part\n",
    "decimal_expan = decimal_expan.split('.')[-1]\n",
    "# generate a sliding windows of length 10\n",
    "windows = generate_window(decimal_expan, 10)\n",
    "# set a placeholder for prime number\n",
    "prime = 0\n",
    "# define start index for the window\n",
    "i = 0\n",
    "# loop thorugh the windows as long as the no prime is registered\n",
    "while prime == 0 and i <= len(windows):\n",
    "    # check if current window is a prime number\n",
    "    number = int(windows[i])\n",
    "    if check_prime(number):\n",
    "        # register number if it is a prime\n",
    "        prime = number\n",
    "    # increase index\n",
    "    i += 1\n",
    "\n",
    "print(prime)"
   ],
   "outputs": [
    {
     "output_type": "stream",
     "name": "stdout",
     "text": [
      "8649375157\n"
     ]
    }
   ],
   "metadata": {}
  },
  {
   "cell_type": "code",
   "execution_count": 12,
   "source": [
    "len(str(N(1234, 2)))"
   ],
   "outputs": [
    {
     "output_type": "execute_result",
     "data": {
      "text/plain": [
       "6"
      ]
     },
     "metadata": {},
     "execution_count": 12
    }
   ],
   "metadata": {}
  },
  {
   "cell_type": "code",
   "execution_count": 13,
   "source": [
    "N(1234, 2)"
   ],
   "outputs": [
    {
     "output_type": "execute_result",
     "data": {
      "text/latex": [
       "$\\displaystyle 1.2 \\cdot 10^{3}$"
      ],
      "text/plain": [
       "1.2e+3"
      ]
     },
     "metadata": {},
     "execution_count": 13
    }
   ],
   "metadata": {}
  },
  {
   "cell_type": "code",
   "execution_count": null,
   "source": [],
   "outputs": [],
   "metadata": {}
  }
 ],
 "metadata": {
  "orig_nbformat": 4,
  "language_info": {
   "name": "python",
   "version": "3.9.6",
   "mimetype": "text/x-python",
   "codemirror_mode": {
    "name": "ipython",
    "version": 3
   },
   "pygments_lexer": "ipython3",
   "nbconvert_exporter": "python",
   "file_extension": ".py"
  },
  "kernelspec": {
   "name": "python3",
   "display_name": "Python 3.9.6 64-bit ('base': conda)"
  },
  "interpreter": {
   "hash": "15cbc1a97da7b8bd70a37bec185392eeb9d6eb6320a07374c212c2fd33a21970"
  }
 },
 "nbformat": 4,
 "nbformat_minor": 2
}